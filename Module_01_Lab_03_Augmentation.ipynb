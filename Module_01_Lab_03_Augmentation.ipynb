{
  "nbformat": 4,
  "nbformat_minor": 0,
  "metadata": {
    "colab": {
      "provenance": [],
      "include_colab_link": true
    },
    "kernelspec": {
      "name": "python3",
      "display_name": "Python 3"
    },
    "language_info": {
      "name": "python"
    }
  },
  "cells": [
    {
      "cell_type": "markdown",
      "metadata": {
        "id": "view-in-github",
        "colab_type": "text"
      },
      "source": [
        "<a href=\"https://colab.research.google.com/github/21JN1A4321/FMML-ASSIGNMENTS/blob/main/Module_01_Lab_03_Augmentation.ipynb\" target=\"_parent\"><img src=\"https://colab.research.google.com/assets/colab-badge.svg\" alt=\"Open In Colab\"/></a>"
      ]
    },
    {
      "cell_type": "markdown",
      "metadata": {
        "id": "w3yfry25JgZK"
      },
      "source": [
        "# Data augmentation\n",
        "\n",
        "FMML Module 1, Lab 3<br>\n",
        "\n",
        " In this lab, we will see how augmentation of data samples help in improving the machine learning performance"
      ]
    },
    {
      "cell_type": "code",
      "metadata": {
        "id": "xZU8_elooqP0"
      },
      "source": [
        "import numpy as np\n",
        "import matplotlib.pyplot as plt\n",
        "from keras.datasets import mnist\n",
        "# set randomseed\n",
        "rng = np.random.default_rng(seed=42)\n",
        "from sklearn.utils.extmath import cartesian\n",
        "from skimage.transform import rotate, AffineTransform, warp\n",
        "import math"
      ],
      "execution_count": 1,
      "outputs": []
    },
    {
      "cell_type": "markdown",
      "metadata": {
        "id": "T5pHYogSMHiE"
      },
      "source": [
        "Augmentation is useful when we have less training data available. Augmentation allows us to 'create' a larger dataset programatically.\n",
        "\n",
        "For this lab we will use a subset of MNIST that is very small, to better understand the effect of augmentation."
      ]
    },
    {
      "cell_type": "code",
      "metadata": {
        "id": "gJvmWJ58ovx5",
        "colab": {
          "base_uri": "https://localhost:8080/"
        },
        "outputId": "7c1d11c7-084e-4e54-9bc0-d47102299e45"
      },
      "source": [
        "#loading the dataset\n",
        "(train_X, train_y), (test_X, test_y) = mnist.load_data()\n",
        "train_X = train_X/255\n",
        "test_X = test_X/255\n",
        "\n",
        "train_X = train_X[::1200,:,:].copy() # subsample. Otherwise it will take too long!\n",
        "train_y = train_y[::1200].copy() # do the same to the labels"
      ],
      "execution_count": 2,
      "outputs": [
        {
          "output_type": "stream",
          "name": "stdout",
          "text": [
            "Downloading data from https://storage.googleapis.com/tensorflow/tf-keras-datasets/mnist.npz\n",
            "11490434/11490434 [==============================] - 0s 0us/step\n"
          ]
        }
      ]
    },
    {
      "cell_type": "markdown",
      "metadata": {
        "id": "8XamH6z1Rt7S"
      },
      "source": [
        "Let us borrow a few functions from the previous labs:"
      ]
    },
    {
      "cell_type": "code",
      "metadata": {
        "id": "Zk2W5_3BRLMS"
      },
      "source": [
        "def NN1(traindata, trainlabel, query):\n",
        "  diff  = traindata - query  # find the difference between features. Numpy automatically takes care of the size here\n",
        "  sq = diff*diff # square the differences\n",
        "  dist = sq.sum(1) # add up the squares\n",
        "  label = trainlabel[np.argmin(dist)] # our predicted label is the label of the training data which has the least distance from the query\n",
        "  return label\n",
        "\n",
        "def NN(traindata, trainlabel, testdata):\n",
        "  # we will run nearest neighbour for each sample in the test data\n",
        "  # and collect the predicted classes in an array using list comprehension\n",
        "  traindata = traindata.reshape(-1, 28*28)\n",
        "  testdata = testdata.reshape(-1,28*28)\n",
        "  predlabel = np.array([NN1(traindata, trainlabel, i) for i in testdata])\n",
        "  return predlabel\n",
        "\n",
        "def Accuracy(gtlabel, predlabel):\n",
        "  assert len(gtlabel)==len(predlabel), \"Length of the groundtruth labels and predicted labels should be the same\"\n",
        "  correct = (gtlabel==predlabel).sum() # count the number of times the groundtruth label is equal to the predicted label.\n",
        "  return correct/len(gtlabel)"
      ],
      "execution_count": 3,
      "outputs": []
    },
    {
      "cell_type": "markdown",
      "metadata": {
        "id": "eGiA3LmDSJZo"
      },
      "source": [
        "In this lab, we will use the image pixels themselves as features, instead of extracting features. Each image has 28*28 pixels, so we will flatten them to 784 pixels to use as features. Note that this is very compute intensive and will take a long time.<br>\n",
        "\n",
        "Let us check the baseline accuracy on the test set without any augmentations. We hope that adding augmentations will help us to get better results."
      ]
    },
    {
      "cell_type": "code",
      "metadata": {
        "id": "4tQvnoasRNEV",
        "colab": {
          "base_uri": "https://localhost:8080/"
        },
        "outputId": "c0e908d9-8ceb-49a8-f481-bb83016fa7a2"
      },
      "source": [
        "testpred = NN(train_X, train_y, test_X)\n",
        "print('Baseline accuracy without augmentation is ', Accuracy(test_y, testpred))"
      ],
      "execution_count": 4,
      "outputs": [
        {
          "output_type": "stream",
          "name": "stdout",
          "text": [
            "Baseline accuracy without augmentation is  0.6472\n"
          ]
        }
      ]
    },
    {
      "cell_type": "markdown",
      "metadata": {
        "id": "ZfkcMfhIZQ7U"
      },
      "source": [
        "Let us try to improve this accuracy using augmentations. When we create augmentations, we have to make sure that the changes reflect what will naturally occur in the dataset. For example, we should not add colour to our samples as an augmentation because they do not naturally occur. We should not also flip the images in MNIST, because flipped images have different meanings for digits.\n",
        "\n",
        "### Augmentation 1: rotation\n",
        "\n",
        "Let us try rotating the image a little. We will use skimage library for this."
      ]
    },
    {
      "cell_type": "code",
      "metadata": {
        "id": "z5WolJ9fZE7L",
        "colab": {
          "base_uri": "https://localhost:8080/",
          "height": 860
        },
        "outputId": "956bc83c-8b6b-42d4-9b00-adb9289aaece"
      },
      "source": [
        "plt.imshow(train_X[2], cmap='gray')\n",
        "plt.show()\n",
        "plt.imshow(rotate(train_X[2],25), cmap='gray')"
      ],
      "execution_count": 5,
      "outputs": [
        {
          "output_type": "display_data",
          "data": {
            "text/plain": [
              "<Figure size 640x480 with 1 Axes>"
            ],
            "image/png": "[encoded data removed]"
          },
          "metadata": {}
        },
        {
          "output_type": "execute_result",
          "data": {
            "text/plain": [
              "<matplotlib.image.AxesImage at 0x7ae32c4d1fc0>"
            ]
          },
          "metadata": {},
          "execution_count": 5
        },
        {
          "output_type": "display_data",
          "data": {
            "text/plain": [
              "<Figure size 640x480 with 1 Axes>"
            ],
            "image/png": "[encoded data removed]"
          },
          "metadata": {}
        }
      ]
    },
    {
      "cell_type": "markdown",
      "metadata": {
        "id": "KE33Yxgggu0c"
      },
      "source": [
        "After rotating, the the class of the image is still the same. Let us make a function to rotate multiple images by random angles. We want a slightly different image every time we run this function. So, we generate a random number between 0 and 1 and change it so that it lies between -constraint/2 and +constraint/2"
      ]
    },
    {
      "cell_type": "code",
      "metadata": {
        "id": "vyM7pUV7Reze"
      },
      "source": [
        "def augRotate(sample, angleconstraint):\n",
        "  if angleconstraint==0:\n",
        "    return sample\n",
        "  if len(sample.shape)==2:\n",
        "    sample = np.expand_dims(sample, 0)  # make sure the sample is 3 dimensional\n",
        "  angle = rng.random(len(sample)) # generate random numbers for angles\n",
        "  angle = (angle-0.5)*angleconstraint # make the random angle constrained\n",
        "  nsample = sample.copy() # preallocate the augmented array to make it faster\n",
        "  for ii in range(len(sample)):\n",
        "    nsample[ii] = rotate(sample[ii], angle[ii])\n",
        "  return np.squeeze(nsample) # take care if the input had only one sample."
      ],
      "execution_count": 6,
      "outputs": []
    },
    {
      "cell_type": "markdown",
      "metadata": {
        "id": "kDk-N5VNjar9"
      },
      "source": [
        "This function returns a slightly different image each time we call it. So we can increase the number of images in the sample by any multiple."
      ]
    },
    {
      "cell_type": "code",
      "metadata": {
        "id": "Vw3O9zGFgI8K",
        "colab": {
          "base_uri": "https://localhost:8080/",
          "height": 639
        },
        "outputId": "5c89d836-8d86-4dd1-8c68-10cd3cd7995a"
      },
      "source": [
        "sample = train_X[20]\n",
        "angleconstraint = 70\n",
        "# show the original image\n",
        "plt.imshow(sample, cmap='gray')\n",
        "plt.show()\n",
        "plt.subplot(1,3,1)\n",
        "plt.imshow(augRotate(sample, angleconstraint), cmap='gray') # show an augmented image\n",
        "plt.subplot(1,3,2)\n",
        "plt.imshow(augRotate(sample, angleconstraint), cmap='gray') # show another augmented image from the same sample\n",
        "plt.subplot(1,3,3)\n",
        "plt.imshow(augRotate(sample, angleconstraint), cmap='gray') # one more image from the same sample"
      ],
      "execution_count": 7,
      "outputs": [
        {
          "output_type": "display_data",
          "data": {
            "text/plain": [
              "<Figure size 640x480 with 1 Axes>"
            ],
            "image/png": "[encoded data removed]"
          },
          "metadata": {}
        },
        {
          "output_type": "execute_result",
          "data": {
            "text/plain": [
              "<matplotlib.image.AxesImage at 0x7ae32c3f3f70>"
            ]
          },
          "metadata": {},
          "execution_count": 7
        },
        {
          "output_type": "display_data",
          "data": {
            "text/plain": [
              "<Figure size 640x480 with 3 Axes>"
            ],
            "image/png": "[encoded data removed]"
          },
          "metadata": {}
        }
      ]
    },
    {
      "cell_type": "markdown",
      "metadata": {
        "id": "ytv3NxF-kgxN"
      },
      "source": [
        "Let us augment the whole dataset and see if this improves the test accuracy"
      ]
    },
    {
      "cell_type": "code",
      "metadata": {
        "id": "iNzNAoDBkRzj",
        "colab": {
          "base_uri": "https://localhost:8080/"
        },
        "outputId": "0acfea7a-a830-41d5-fffc-65b5ecef415f"
      },
      "source": [
        "# hyperparameters\n",
        "angleconstraint = 60\n",
        "naugmentations = 5\n",
        "\n",
        "# augment\n",
        "augdata = train_X # we include the original images also in the augmented dataset\n",
        "auglabel = train_y\n",
        "for ii in range(naugmentations):\n",
        "  augdata = np.concatenate((augdata, augRotate(train_X, angleconstraint))) # concatenate the augmented data to the set\n",
        "  auglabel = np.concatenate((auglabel, train_y))  # the labels don't change when we augment\n",
        "\n",
        "# check the test accuracy\n",
        "testpred = NN(augdata, auglabel, test_X)\n",
        "print('Accuracy after rotation augmentation is ', Accuracy(test_y, testpred))"
      ],
      "execution_count": 8,
      "outputs": [
        {
          "output_type": "stream",
          "name": "stdout",
          "text": [
            "Accuracy after rotation augmentation is  0.6616\n"
          ]
        }
      ]
    },
    {
      "cell_type": "markdown",
      "metadata": {
        "id": "E88Nt9s1p5R6"
      },
      "source": [
        "The angle constraint is a hyperparameter which we have to tune using a validation set. (Here we are not doing that for time constraints). Let us try a grid search to find the best angle constraint."
      ]
    },
    {
      "cell_type": "code",
      "metadata": {
        "id": "aiaFRLREmGp6",
        "colab": {
          "base_uri": "https://localhost:8080/"
        },
        "outputId": "c489cee7-5e4f-4bac-d9ac-6fa999eadd72"
      },
      "source": [
        "angleconstraints = [0,10,20,30,40,50,60,70,80,90] # the values we want to test\n",
        "accuracies = np.zeros(len(angleconstraints), dtype=np.float) # we will save the values here\n",
        "\n",
        "for ii in range(len(angleconstraints)):\n",
        "  # create the augmented dataset\n",
        "  augdata = train_X # we include the original images also in the augmented dataset\n",
        "  auglabel = train_y\n",
        "  for jj in range(naugmentations):\n",
        "    augdata = np.concatenate((augdata, augRotate(train_X, angleconstraints[ii]))) # concatenate the augmented data to the set\n",
        "    auglabel = np.concatenate((auglabel, train_y))  # the labels don't change when we augment\n",
        "\n",
        "  # check the test accuracy\n",
        "  testpred = NN(augdata, auglabel, test_X)\n",
        "  accuracies[ii] = Accuracy(test_y, testpred)\n",
        "  print('Accuracy after rotation augmentation constrained by ',angleconstraints[ii], ' is ', accuracies[ii], flush=True)"
      ],
      "execution_count": 9,
      "outputs": [
        {
          "output_type": "stream",
          "name": "stderr",
          "text": [
            "<ipython-input-9-2f14d3721156>:2: DeprecationWarning: `np.float` is a deprecated alias for the builtin `float`. To silence this warning, use `float` by itself. Doing this will not modify any behavior and is safe. If you specifically wanted the numpy scalar type, use `np.float64` here.\n",
            "Deprecated in NumPy 1.20; for more details and guidance: https://numpy.org/devdocs/release/1.20.0-notes.html#deprecations\n",
            "  accuracies = np.zeros(len(angleconstraints), dtype=np.float) # we will save the values here\n"
          ]
        },
        {
          "output_type": "stream",
          "name": "stdout",
          "text": [
            "Accuracy after rotation augmentation constrained by  0  is  0.6472\n",
            "Accuracy after rotation augmentation constrained by  10  is  0.6727\n",
            "Accuracy after rotation augmentation constrained by  20  is  0.673\n",
            "Accuracy after rotation augmentation constrained by  30  is  0.6737\n",
            "Accuracy after rotation augmentation constrained by  40  is  0.6731\n",
            "Accuracy after rotation augmentation constrained by  50  is  0.6701\n",
            "Accuracy after rotation augmentation constrained by  60  is  0.6675\n",
            "Accuracy after rotation augmentation constrained by  70  is  0.661\n",
            "Accuracy after rotation augmentation constrained by  80  is  0.6462\n",
            "Accuracy after rotation augmentation constrained by  90  is  0.6469\n"
          ]
        }
      ]
    },
    {
      "cell_type": "markdown",
      "metadata": {
        "id": "2oVDRYP2rxob"
      },
      "source": [
        "Let us see the best value for angle constraint: (Ideally this should be done on validation set, not test set)"
      ]
    },
    {
      "cell_type": "code",
      "metadata": {
        "id": "LqthJa_pmMHz",
        "colab": {
          "base_uri": "https://localhost:8080/",
          "height": 485
        },
        "outputId": "c6b24508-805c-4894-c266-29ca76e59a06"
      },
      "source": [
        "fig = plt.figure()\n",
        "ax = fig.add_axes([0.1, 0.1, 0.8, 0.8]) # main axes\n",
        "# plot the variation of accuracy\n",
        "ax.plot(angleconstraints, accuracies)\n",
        "ax.set_xlabel('angle')\n",
        "ax.set_ylabel('accuracy')\n",
        "# plot the maximum accuracy\n",
        "maxind = np.argmax(accuracies)\n",
        "plt.scatter(angleconstraints[maxind], accuracies[maxind], c='red')"
      ],
      "execution_count": 10,
      "outputs": [
        {
          "output_type": "execute_result",
          "data": {
            "text/plain": [
              "<matplotlib.collections.PathCollection at 0x7ae32c310820>"
            ]
          },
          "metadata": {},
          "execution_count": 10
        },
        {
          "output_type": "display_data",
          "data": {
            "text/plain": [
              "<Figure size 640x480 with 1 Axes>"
            ],
            "image/png": "[encoded data removed]"
          },
          "metadata": {}
        }
      ]
    },
    {
      "cell_type": "markdown",
      "metadata": {
        "id": "eJ8YuVfCuGTj"
      },
      "source": [
        "Let us try one more augmentation: shear. Here is what this looks like:"
      ]
    },
    {
      "cell_type": "code",
      "metadata": {
        "id": "pMiw46NLwssK"
      },
      "source": [
        "def shear(sample, amount):\n",
        "  tform = AffineTransform(shear = amount) # create the shear transform\n",
        "  img = warp(sample, tform) # apply the shear\n",
        "  # this makes the digit off-center. Since all the images in the test set are centralized, we will do the same here\n",
        "  col = img.sum(0).nonzero()[0]\n",
        "  row = img.sum(1).nonzero()[0]\n",
        "  if len(col)>0 and len(row)>0:\n",
        "    xshift = int(sample.shape[0]/2 - (row[0]+row[-1])/2)\n",
        "    yshift = int(sample.shape[1]/2 - (col[0]+col[-1])/2)\n",
        "    img = np.roll(img, (xshift, yshift),(0,1))\n",
        "  return img"
      ],
      "execution_count": 11,
      "outputs": []
    },
    {
      "cell_type": "code",
      "metadata": {
        "id": "4_u_EYpmnABK",
        "colab": {
          "base_uri": "https://localhost:8080/",
          "height": 860
        },
        "outputId": "49e19f0a-b91e-4040-c353-3fa1ae16000e"
      },
      "source": [
        "sample = train_X[2]\n",
        "plt.imshow(sample, cmap='gray')\n",
        "plt.show()\n",
        "\n",
        "# apply shear\n",
        "plt.imshow(shear(sample, 0.4), cmap='gray')"
      ],
      "execution_count": 12,
      "outputs": [
        {
          "output_type": "display_data",
          "data": {
            "text/plain": [
              "<Figure size 640x480 with 1 Axes>"
            ],
            "image/png": "[encoded data removed]"
          },
          "metadata": {}
        },
        {
          "output_type": "execute_result",
          "data": {
            "text/plain": [
              "<matplotlib.image.AxesImage at 0x7ae32c19b0a0>"
            ]
          },
          "metadata": {},
          "execution_count": 12
        },
        {
          "output_type": "display_data",
          "data": {
            "text/plain": [
              "<Figure size 640x480 with 1 Axes>"
            ],
            "image/png": "[encoded data removed]"
          },
          "metadata": {}
        }
      ]
    },
    {
      "cell_type": "markdown",
      "metadata": {
        "id": "lGnWMoyM2pK4"
      },
      "source": [
        "Create an augmentation function which applies a random shear according to the constraint we provide:"
      ]
    },
    {
      "cell_type": "code",
      "metadata": {
        "id": "-qLDJyGytwP5"
      },
      "source": [
        "def augShear(sample, shearconstraint):\n",
        "  if shearconstraint==0:\n",
        "    return sample\n",
        "  if len(sample.shape)==2:\n",
        "    sample = np.expand_dims(sample, 0)  # make sure the sample is 3 dimensional\n",
        "  amt = rng.random(len(sample)) # generate random numbers for shear\n",
        "  amt = (amt-0.5)*shearconstraint # make the random shear constrained\n",
        "  nsample = sample.copy() # preallocate the augmented array to make it faster\n",
        "  for ii in range(len(sample)):\n",
        "    nsample[ii] = shear(sample[ii], amt[ii])\n",
        "  return np.squeeze(nsample) # take care if the input had only one sample."
      ],
      "execution_count": 13,
      "outputs": []
    },
    {
      "cell_type": "markdown",
      "metadata": {
        "id": "s6lQcWW93suJ"
      },
      "source": [
        "Let us do a grid search to find the best shear constraint."
      ]
    },
    {
      "cell_type": "code",
      "metadata": {
        "id": "l_wrqPkrzBb_",
        "colab": {
          "base_uri": "https://localhost:8080/"
        },
        "outputId": "39ed9bb0-6ed7-423d-a689-ca8bbc88cf10"
      },
      "source": [
        "shearconstraints = [0, 0.2,0.4,0.6,0.8,1.0,1.2,1.4,1.6,1.8,2.0] # the values we want to test\n",
        "accuracies = np.zeros(len(shearconstraints), dtype=np.float) # we will save the values here\n",
        "\n",
        "for ii in range(len(shearconstraints)):\n",
        "  # create the augmented dataset\n",
        "  augdata = train_X # we include the original images also in the augmented dataset\n",
        "  auglabel = train_y\n",
        "  for jj in range(naugmentations):\n",
        "    augdata = np.concatenate((augdata, augShear(train_X, shearconstraints[ii]))) # concatenate the augmented data to the set\n",
        "    auglabel = np.concatenate((auglabel, train_y))  # the labels don't change when we augment\n",
        "\n",
        "  # check the test accuracy\n",
        "  testpred = NN(augdata, auglabel, test_X)\n",
        "  accuracies[ii] = Accuracy(test_y, testpred)\n",
        "  print('Accuracy after shear augmentation constrained by ',shearconstraints[ii], ' is ', accuracies[ii], flush=True)"
      ],
      "execution_count": 14,
      "outputs": [
        {
          "output_type": "stream",
          "name": "stderr",
          "text": [
            "<ipython-input-14-8a89fef4983d>:2: DeprecationWarning: `np.float` is a deprecated alias for the builtin `float`. To silence this warning, use `float` by itself. Doing this will not modify any behavior and is safe. If you specifically wanted the numpy scalar type, use `np.float64` here.\n",
            "Deprecated in NumPy 1.20; for more details and guidance: https://numpy.org/devdocs/release/1.20.0-notes.html#deprecations\n",
            "  accuracies = np.zeros(len(shearconstraints), dtype=np.float) # we will save the values here\n"
          ]
        },
        {
          "output_type": "stream",
          "name": "stdout",
          "text": [
            "Accuracy after shear augmentation constrained by  0  is  0.6472\n",
            "Accuracy after shear augmentation constrained by  0.2  is  0.6147\n",
            "Accuracy after shear augmentation constrained by  0.4  is  0.632\n",
            "Accuracy after shear augmentation constrained by  0.6  is  0.6351\n",
            "Accuracy after shear augmentation constrained by  0.8  is  0.6636\n",
            "Accuracy after shear augmentation constrained by  1.0  is  0.6652\n",
            "Accuracy after shear augmentation constrained by  1.2  is  0.6495\n",
            "Accuracy after shear augmentation constrained by  1.4  is  0.6181\n",
            "Accuracy after shear augmentation constrained by  1.6  is  0.6323\n",
            "Accuracy after shear augmentation constrained by  1.8  is  0.6432\n",
            "Accuracy after shear augmentation constrained by  2.0  is  0.6277\n"
          ]
        }
      ]
    },
    {
      "cell_type": "code",
      "metadata": {
        "id": "EKaH-YR-zVnA",
        "colab": {
          "base_uri": "https://localhost:8080/",
          "height": 481
        },
        "outputId": "e2d3545c-a83e-42d9-eefc-f5cf0f91070a"
      },
      "source": [
        "fig = plt.figure()\n",
        "ax = fig.add_axes([0.1, 0.1, 0.8, 0.8]) # main axes\n",
        "# plot the variation of accuracy\n",
        "ax.plot(shearconstraints, accuracies)\n",
        "ax.set_xlabel('angle')\n",
        "ax.set_ylabel('accuracy')\n",
        "# plot the maximum accuracy\n",
        "maxind = np.argmax(accuracies)\n",
        "plt.scatter(shearconstraints[maxind], accuracies[maxind], c='red')"
      ],
      "execution_count": 15,
      "outputs": [
        {
          "output_type": "execute_result",
          "data": {
            "text/plain": [
              "<matplotlib.collections.PathCollection at 0x7ae32c229de0>"
            ]
          },
          "metadata": {},
          "execution_count": 15
        },
        {
          "output_type": "display_data",
          "data": {
            "text/plain": [
              "<Figure size 640x480 with 1 Axes>"
            ],
            "image/png": "[encoded data removed]"
          },
          "metadata": {}
        }
      ]
    },
    {
      "cell_type": "markdown",
      "metadata": {
        "id": "ccfdbRcQ7Zgg"
      },
      "source": [
        "We can do multiple augmentations at the same time. Here is a function to do both shear and rotation to the sample. In this case, we will have two hyperparameters."
      ]
    },
    {
      "cell_type": "code",
      "metadata": {
        "id": "sh8S_Pxa0XCv"
      },
      "source": [
        "def augRotateShear(sample, angleconstraint, shearconstraint):\n",
        "  if len(sample.shape)==2:\n",
        "    sample = np.expand_dims(sample, 0)  # make sure the sample is 3 dimensional\n",
        "  amt = rng.random(len(sample)) # generate random numbers for shear\n",
        "  amt = (amt-0.5)*shearconstraint # make the random shear constrained\n",
        "  angle = rng.random(len(sample)) # generate random numbers for angles\n",
        "  angle = (angle-0.5)*angleconstraint # make the random angle constrained\n",
        "  nsample = sample.copy() # preallocate the augmented array to make it faster\n",
        "  for ii in range(len(sample)):\n",
        "    nsample[ii] = rotate(shear(sample[ii], amt[ii]), angle[ii]) # first apply shear, then rotate\n",
        "  return np.squeeze(nsample) # take care if the input had only one sample."
      ],
      "execution_count": 16,
      "outputs": []
    },
    {
      "cell_type": "markdown",
      "metadata": {
        "id": "OGKyjjNx-NQ4"
      },
      "source": [
        "Since we have two hyperparameters, we have to do the grid search on a 2 dimensional matrix. We can use our previous experience to inform where to search for the best hyperparameters."
      ]
    },
    {
      "cell_type": "code",
      "metadata": {
        "id": "TJC45WRg0pOP",
        "colab": {
          "base_uri": "https://localhost:8080/"
        },
        "outputId": "14daada6-6ef2-47fd-808d-3931dd1af581"
      },
      "source": [
        "shearconstraints = [0, 0.2,0.4,0.6,0.8,1.0,1.2,1.4,1.6] # the values we want to test\n",
        "angleconstraints = [0,10,20,30,40,50,60] # the values we want to test\n",
        "hyp = cartesian((shearconstraints, angleconstraints)) # cartesian product of both\n",
        "\n",
        "accuracies = np.zeros(len(hyp), dtype=np.float) # we will save the values here\n",
        "\n",
        "for ii in range(len(hyp)):\n",
        "  # create the augmented dataset\n",
        "  augdata = train_X # we include the original images also in the augmented dataset\n",
        "  auglabel = train_y\n",
        "  for jj in range(naugmentations):\n",
        "    augdata = np.concatenate((augdata, augRotateShear(train_X, hyp[ii][0], hyp[ii][1]))) # concatenate the augmented data to the set\n",
        "    auglabel = np.concatenate((auglabel, train_y))  # the labels don't change when we augment\n",
        "\n",
        "  # check the test accuracy\n",
        "  testpred = NN(augdata, auglabel, test_X)\n",
        "  accuracies[ii] = Accuracy(test_y, testpred)\n",
        "  print('Accuracy after augmentation shear:',hyp[ii][0], 'angle:',hyp[ii][1], ' is ', accuracies[ii], flush=True)"
      ],
      "execution_count": 18,
      "outputs": [
        {
          "output_type": "stream",
          "name": "stderr",
          "text": [
            "<ipython-input-18-09de780976d0>:5: DeprecationWarning: `np.float` is a deprecated alias for the builtin `float`. To silence this warning, use `float` by itself. Doing this will not modify any behavior and is safe. If you specifically wanted the numpy scalar type, use `np.float64` here.\n",
            "Deprecated in NumPy 1.20; for more details and guidance: https://numpy.org/devdocs/release/1.20.0-notes.html#deprecations\n",
            "  accuracies = np.zeros(len(hyp), dtype=np.float) # we will save the values here\n"
          ]
        },
        {
          "output_type": "stream",
          "name": "stdout",
          "text": [
            "Accuracy after augmentation shear: 0.0 angle: 0.0  is  0.6332\n",
            "Accuracy after augmentation shear: 0.0 angle: 10.0  is  0.601\n",
            "Accuracy after augmentation shear: 0.0 angle: 20.0  is  0.6223\n",
            "Accuracy after augmentation shear: 0.0 angle: 30.0  is  0.6094\n",
            "Accuracy after augmentation shear: 0.0 angle: 40.0  is  0.6037\n",
            "Accuracy after augmentation shear: 0.0 angle: 50.0  is  0.6106\n",
            "Accuracy after augmentation shear: 0.0 angle: 60.0  is  0.6024\n",
            "Accuracy after augmentation shear: 0.2 angle: 0.0  is  0.6338\n",
            "Accuracy after augmentation shear: 0.2 angle: 10.0  is  0.6195\n",
            "Accuracy after augmentation shear: 0.2 angle: 20.0  is  0.6192\n",
            "Accuracy after augmentation shear: 0.2 angle: 30.0  is  0.5985\n",
            "Accuracy after augmentation shear: 0.2 angle: 40.0  is  0.5814\n",
            "Accuracy after augmentation shear: 0.2 angle: 50.0  is  0.5768\n",
            "Accuracy after augmentation shear: 0.2 angle: 60.0  is  0.6069\n",
            "Accuracy after augmentation shear: 0.4 angle: 0.0  is  0.6342\n",
            "Accuracy after augmentation shear: 0.4 angle: 10.0  is  0.6124\n",
            "Accuracy after augmentation shear: 0.4 angle: 20.0  is  0.6065\n",
            "Accuracy after augmentation shear: 0.4 angle: 30.0  is  0.5821\n",
            "Accuracy after augmentation shear: 0.4 angle: 40.0  is  0.6028\n",
            "Accuracy after augmentation shear: 0.4 angle: 50.0  is  0.5826\n",
            "Accuracy after augmentation shear: 0.4 angle: 60.0  is  0.6005\n",
            "Accuracy after augmentation shear: 0.6 angle: 0.0  is  0.634\n",
            "Accuracy after augmentation shear: 0.6 angle: 10.0  is  0.611\n",
            "Accuracy after augmentation shear: 0.6 angle: 20.0  is  0.5832\n",
            "Accuracy after augmentation shear: 0.6 angle: 30.0  is  0.5824\n",
            "Accuracy after augmentation shear: 0.6 angle: 40.0  is  0.6109\n",
            "Accuracy after augmentation shear: 0.6 angle: 50.0  is  0.616\n",
            "Accuracy after augmentation shear: 0.6 angle: 60.0  is  0.599\n",
            "Accuracy after augmentation shear: 0.8 angle: 0.0  is  0.6363\n",
            "Accuracy after augmentation shear: 0.8 angle: 10.0  is  0.6115\n",
            "Accuracy after augmentation shear: 0.8 angle: 20.0  is  0.6097\n",
            "Accuracy after augmentation shear: 0.8 angle: 30.0  is  0.5883\n",
            "Accuracy after augmentation shear: 0.8 angle: 40.0  is  0.6058\n",
            "Accuracy after augmentation shear: 0.8 angle: 50.0  is  0.6061\n",
            "Accuracy after augmentation shear: 0.8 angle: 60.0  is  0.5905\n",
            "Accuracy after augmentation shear: 1.0 angle: 0.0  is  0.6352\n",
            "Accuracy after augmentation shear: 1.0 angle: 10.0  is  0.5922\n",
            "Accuracy after augmentation shear: 1.0 angle: 20.0  is  0.5818\n",
            "Accuracy after augmentation shear: 1.0 angle: 30.0  is  0.6052\n",
            "Accuracy after augmentation shear: 1.0 angle: 40.0  is  0.5929\n",
            "Accuracy after augmentation shear: 1.0 angle: 50.0  is  0.5978\n",
            "Accuracy after augmentation shear: 1.0 angle: 60.0  is  0.5692\n",
            "Accuracy after augmentation shear: 1.2 angle: 0.0  is  0.6337\n",
            "Accuracy after augmentation shear: 1.2 angle: 10.0  is  0.5948\n",
            "Accuracy after augmentation shear: 1.2 angle: 20.0  is  0.5999\n",
            "Accuracy after augmentation shear: 1.2 angle: 30.0  is  0.6182\n",
            "Accuracy after augmentation shear: 1.2 angle: 40.0  is  0.6197\n",
            "Accuracy after augmentation shear: 1.2 angle: 50.0  is  0.6245\n",
            "Accuracy after augmentation shear: 1.2 angle: 60.0  is  0.5851\n",
            "Accuracy after augmentation shear: 1.4 angle: 0.0  is  0.634\n",
            "Accuracy after augmentation shear: 1.4 angle: 10.0  is  0.5983\n",
            "Accuracy after augmentation shear: 1.4 angle: 20.0  is  0.5981\n",
            "Accuracy after augmentation shear: 1.4 angle: 30.0  is  0.5966\n",
            "Accuracy after augmentation shear: 1.4 angle: 40.0  is  0.5961\n",
            "Accuracy after augmentation shear: 1.4 angle: 50.0  is  0.5958\n",
            "Accuracy after augmentation shear: 1.4 angle: 60.0  is  0.5762\n",
            "Accuracy after augmentation shear: 1.6 angle: 0.0  is  0.6339\n",
            "Accuracy after augmentation shear: 1.6 angle: 10.0  is  0.609\n",
            "Accuracy after augmentation shear: 1.6 angle: 20.0  is  0.6092\n",
            "Accuracy after augmentation shear: 1.6 angle: 30.0  is  0.5967\n",
            "Accuracy after augmentation shear: 1.6 angle: 40.0  is  0.6269\n",
            "Accuracy after augmentation shear: 1.6 angle: 50.0  is  0.5789\n",
            "Accuracy after augmentation shear: 1.6 angle: 60.0  is  0.5818\n"
          ]
        }
      ]
    },
    {
      "cell_type": "markdown",
      "metadata": {
        "id": "PT6CnvSDEX7a"
      },
      "source": [
        "Let us plot it two dimensionally to see which is the best value for the hyperparameters:"
      ]
    },
    {
      "cell_type": "code",
      "metadata": {
        "id": "jD2i7msI_cLd",
        "colab": {
          "base_uri": "https://localhost:8080/",
          "height": 481
        },
        "outputId": "6c5ed100-3506-4969-bba4-c5dad3c91c92"
      },
      "source": [
        "fig = plt.figure()\n",
        "ax = fig.add_axes([0.1, 0.1, 0.8, 0.8]) # main axes\n",
        "im = ax.imshow(accuracies.reshape((len(shearconstraints), len(angleconstraints))), cmap='inferno')\n",
        "ax.set_xlabel('angle')\n",
        "ax.set_ylabel('shear')\n",
        "ax.set_xticks(np.arange(len(angleconstraints)));\n",
        "ax.set_xticklabels(angleconstraints);\n",
        "ax.set_yticks(np.arange(len(shearconstraints)));\n",
        "ax.set_yticklabels(shearconstraints);\n",
        "plt.colorbar(im)"
      ],
      "execution_count": 19,
      "outputs": [
        {
          "output_type": "execute_result",
          "data": {
            "text/plain": [
              "<matplotlib.colorbar.Colorbar at 0x7ae32bfff370>"
            ]
          },
          "metadata": {},
          "execution_count": 19
        },
        {
          "output_type": "display_data",
          "data": {
            "text/plain": [
              "<Figure size 640x480 with 2 Axes>"
            ],
            "image/png": "[encoded data removed]"
          },
          "metadata": {}
        }
      ]
    },
    {
      "cell_type": "markdown",
      "metadata": {
        "id": "OHcZWJiFJDMh"
      },
      "source": [
        "It seems that rotation and shear don't mix! The best accuracy is when rotation is zero."
      ]
    },
    {
      "cell_type": "markdown",
      "metadata": {
        "id": "PAasQo1C3x4A"
      },
      "source": [
        "## Questions\n",
        "Try these questions for better understanding. You may not be able to solve all of them.\n",
        "1. What is the best value for angle constraint and shear constraint you got? How much did the accuracy improve as compared to not using augmentations?\n",
        "2. Can you increase the accuracy by increasing the number of augmentations from each sample?\n",
        "3. Try implementing a few augmentations of your own and experimenting with them. A good reference is <a href=https://www.analyticsvidhya.com/blog/2019/12/image-augmentation-deep-learning-pytorch/>here. </a>\n",
        "4. Try combining various augmentations. What is the highest accuracy you can get? What is the smallest training dataset you can take and still get accuracy above 50%?\n",
        "\n",
        "Whenever you do any experiment, a good practice is to vary the hyperparameters gradually and create a graph of your results, like we did for gridsearch."
      ]
    },
    {
      "cell_type": "markdown",
      "source": [
        "1A     Data augmentation is often used in computer vision tasks, such as image classification, to improve model generalization by generating variations of the training data. The optimal values for augmentation parameters like angle constraint and shear constraint can vary depending on the nature of your data and the problem you're trying to solve.\n",
        "\n",
        "To find the best values for these parameters, you can follow these steps:\n",
        "\n",
        "Start with reasonable default values or commonly used values for angle and shear constraints (e.g., angles in the range of -30 to 30 degrees, shear factors in the range of -0.2 to 0.2).\n",
        "\n",
        "Perform a grid search or random search over a range of values for these parameters. Train and evaluate your model with different augmentation settings.\n",
        "\n",
        "Monitor the performance metrics (such as accuracy, F1 score, or whatever is appropriate for your task) on a validation set for each set of augmentation parameters.\n",
        "\n",
        "Choose the values that result in the best performance on the validation set. Keep in mind that you should also test your model on a separate test set to assess its generalization to unseen data.\n",
        "\n",
        "The improvement in accuracy compared to not using augmentations will depend on various factors, including the quality and quantity of your original training data, the complexity of your model, and the nature of the problem. Data augmentation can help improve model performance by exposing it to more diverse examples and reducing overfitting, but the extent of improvement can vary.\n",
        "\n",
        "Ultimately, the best values for angle and shear constraints, as well as other augmentation parameters, should be determined empirically through experimentation on your specific dataset and task.\n",
        "\n",
        "\n",
        "\n",
        "\n",
        "\n"
      ],
      "metadata": {
        "id": "sMfVBdkYn9vr"
      }
    },
    {
      "cell_type": "markdown",
      "source": [
        "2A    Increasing the number of augmentations from each sample in a machine learning dataset can sometimes help improve model accuracy, but it's not a guaranteed way to achieve better results. Augmentations are transformations applied to the input data to increase the diversity of the training set and make the model more robust. However, there are some important considerations to keep in mind:\n",
        "\n",
        "Overfitting: Increasing the number of augmentations can sometimes lead to overfitting, especially if the augmentation techniques are too aggressive. Overfitting occurs when a model becomes too specialized in the training data and performs poorly on new, unseen data. To avoid overfitting, it's important to strike a balance between augmentation and model complexity.\n",
        "\n",
        "Augmentation Quality: The quality and relevance of the augmentations matter more than their quantity. Randomly applying excessive augmentations may introduce noise into the data, making it harder for the model to learn meaningful patterns. Augmentations should be carefully chosen and tailored to the specific problem and dataset.\n",
        "\n",
        "Computation Cost: Applying a large number of augmentations to each sample can significantly increase the computational cost of training. This may not be practical for large datasets or when working with limited computational resources.\n",
        "\n",
        "Data Distribution: Augmentations should preserve the underlying data distribution. If augmentations introduce biases or distortions that are not representative of the real-world data, it can lead to poor model performance.\n",
        "\n",
        "Cross-Validation: When using data augmentation, it's important to perform proper cross-validation to assess the model's performance accurately. Cross-validation helps ensure that the model generalizes well to unseen data.\n",
        "\n",
        "Model Architecture: The choice of model architecture and hyperparameters also plays a significant role in determining accuracy. Simply increasing the number of augmentations may not compensate for a poorly chosen model or inadequate hyperparameters.\n",
        "\n",
        "In summary, increasing the number of augmentations can be a useful technique for improving model accuracy, but it should be done thoughtfully and in conjunction with other best practices in machine learning. It's essential to monitor the model's performance, avoid overfitting, and ensure that augmentations enhance the model's ability to generalize to real-world data.\n",
        "\n",
        "\n",
        "\n",
        "\n"
      ],
      "metadata": {
        "id": "edpQmA1CoRR_"
      }
    },
    {
      "cell_type": "markdown",
      "source": [
        "4A    The highest accuracy achieved when combining various data augmentations depends on several factors, including the specific dataset, model architecture, and augmentation techniques used. Achieving high accuracy often involves a trial-and-error process to determine the most effective augmentations for a given task. Some commonly used data augmentations include:\n",
        "\n",
        "Rotation\n",
        "Translation\n",
        "Scaling\n",
        "Flipping (horizontal and vertical)\n",
        "Color jitter\n",
        "Gaussian noise\n",
        "Random cropping\n",
        "Elastic deformations\n",
        "To find the highest accuracy for a specific task, you would typically perform experiments with different combinations of augmentations and hyperparameters. This process is often iterative and requires fine-tuning to optimize the model's performance.\n",
        "\n",
        "As for the smallest training dataset that can still achieve accuracy above 50%, it also depends on the complexity of the task and the quality of the data. In general, deep learning models require larger datasets to achieve good performance. However, data augmentation can help mitigate the need for a large dataset by generating synthetic training examples. The exact dataset size required will vary from task to task, but it's possible to achieve above 50% accuracy with a relatively small dataset by using appropriate data augmentation techniques.\n",
        "\n",
        "Here are some general tips for working with small datasets:\n",
        "\n",
        "Use data augmentation: Apply a variety of data augmentations to increase the effective size of your dataset and improve model generalization.\n",
        "\n",
        "Transfer learning: Start with a pre-trained model and fine-tune it on your small dataset. This leverages the knowledge encoded in the pre-trained model, reducing the need for a large dataset.\n",
        "\n",
        "Regularization: Use techniques like dropout, weight decay, and early stopping to prevent overfitting, which is more likely to occur with small datasets.\n",
        "\n",
        "Cross-validation: Split your small dataset into multiple folds and use cross-validation to assess model performance. This can help provide a more robust estimate of accuracy.\n",
        "\n",
        "Feature engineering: If applicable, engineer meaningful features from your data to improve model performance with a small dataset.\n",
        "\n",
        "Ensembling: Combine multiple models (e.g., through techniques like bagging or boosting) to improve predictive performance.\n",
        "\n",
        "Data quality: Ensure that the data you have is of high quality and well-labeled to maximize the effectiveness of your model.\n",
        "\n",
        "In practice, the specific combination of these techniques and the minimum dataset size required to achieve above 50% accuracy will vary depending on the problem you're trying to solve. Experimentation and fine-tuning are key to finding the best approach for your particular task.\n",
        "\n",
        "\n",
        "\n",
        "\n",
        "\n",
        ""
      ],
      "metadata": {
        "id": "R695-wM7oTHS"
      }
    },
    {
      "cell_type": "markdown",
      "source": [
        "3A  Certainly! Image augmentation is a common technique used in deep learning for improving model generalization by creating variations of training data. Below, I'll provide you with some Python code examples using the popular deep learning library, PyTorch, to implement and experiment with a few image augmentation techniques. These augmentations include:\n",
        "\n",
        "Random Rotation: Rotating the image by a random angle to increase the model's ability to recognize objects from different perspectives.\n",
        "\n",
        "Random Horizontal Flip: Flipping the image horizontally randomly to create mirror images, which can help the model learn invariant features.\n",
        "\n",
        "Random Brightness and Contrast Adjustment: Altering the brightness and contrast of the image randomly to simulate different lighting conditions.\n",
        "\n",
        "Random Gaussian Blur: Applying Gaussian blur to the image with random kernel sizes to introduce blur and make the model more robust to noise.\n",
        "\n",
        "Make sure you have PyTorch and torchvision installed before running these examples.\n",
        "\n",
        "python\n",
        "Copy code\n",
        "import torch\n",
        "import torchvision.transforms as transforms\n",
        "from PIL import Image\n",
        "import matplotlib.pyplot as plt\n",
        "\n",
        "# Load an example image\n",
        "image = Image.open('example.jpg')\n",
        "\n",
        "# Create transformations\n",
        "transformations = transforms.Compose([\n",
        "    transforms.RandomRotation(degrees=30),  # Random rotation up to 30 degrees\n",
        "    transforms.RandomHorizontalFlip(),      # Random horizontal flip\n",
        "    transforms.ColorJitter(brightness=0.2, contrast=0.2),  # Random brightness and contrast adjustments\n",
        "    transforms.GaussianBlur(kernel_size=5)  # Random Gaussian blur\n",
        "])\n",
        "\n",
        "# Apply transformations to the image\n",
        "augmented_image = transformations(image)\n",
        "\n",
        "# Display the original and augmented images\n",
        "plt.subplot(1, 2, 1)\n",
        "plt.title('Original Image')\n",
        "plt.imshow(image)\n",
        "plt.axis('off')\n",
        "\n",
        "plt.subplot(1, 2, 2)\n",
        "plt.title('Augmented Image')\n",
        "plt.imshow(augmented_image)\n",
        "plt.axis('off')\n",
        "\n",
        "plt.show()\n",
        "In this code, we first load an example image. Then, we define a series of transformations using transforms.Compose. We apply random rotation, horizontal flip, color jitter (brightness and contrast adjustments), and Gaussian blur transformations to the image. Finally, we display both the original and augmented images for visual comparison.\n",
        "\n",
        "You can further experiment with these augmentations by adjusting the parameters and combining them differently to see how they affect your dataset and deep learning model's performance.\n",
        "\n",
        "\n",
        "\n",
        "\n",
        "\n"
      ],
      "metadata": {
        "id": "TbduhSZDpW7s"
      }
    }
  ]
}